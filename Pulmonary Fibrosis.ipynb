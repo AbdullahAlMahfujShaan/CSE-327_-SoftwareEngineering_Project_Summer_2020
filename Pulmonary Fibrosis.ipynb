{
 "cells": [
  {
   "cell_type": "code",
   "execution_count": null,
   "metadata": {},
   "outputs": [],
   "source": [
    "import os\n",
    "from os import listdir\n",
    "import pandas as pd\n",
    "import numpy as np\n",
    "import glob\n",
    "import tqdm\n",
    "from typing import Dict\n",
    "import matplotlib.pyplot as plt\n",
    "%matplotlib inline"
   ]
  },
  {
   "cell_type": "code",
   "execution_count": null,
   "metadata": {},
   "outputs": [],
   "source": [
    "#plotly\n",
    "#pip install chart_studio\n",
    "import plotly.express as px\n",
    "import chart_studio.plotly as py\n",
    "import plotly.graph_objs as go\n",
    "from plotly.offline import iplot\n",
    "import cufflinks\n",
    "cufflinks.go_offline()\n",
    "cufflinks.set_config_file(world_readable=True, theme='pearl')"
   ]
  },
  {
   "cell_type": "code",
   "execution_count": null,
   "metadata": {},
   "outputs": [],
   "source": [
    "#color\n",
    "from colorama import Fore, Back, Style\n",
    "\n",
    "import seaborn as sns\n",
    "sns.set(style=\"whitegrid\")\n",
    "\n",
    "#pydicom\n",
    "import pydicom\n",
    "\n",
    "# Suppress warnings \n",
    "import warnings\n",
    "warnings.filterwarnings('ignore')\n",
    "\n",
    "# Settings for pretty nice plots\n",
    "plt.style.use('fivethirtyeight')\n",
    "plt.show()"
   ]
  },
  {
   "cell_type": "code",
   "execution_count": null,
   "metadata": {},
   "outputs": [],
   "source": [
    "# List files available\n",
    "list(os.listdir(\"G:/DeepLearning/CSE327/Dataset\"))"
   ]
  },
  {
   "cell_type": "code",
   "execution_count": null,
   "metadata": {},
   "outputs": [],
   "source": [
    "IMAGE_PATH = \"G:/DeepLearning/CSE327/Dataset\"\n",
    "\n",
    "train_df = pd.read_csv('G:/DeepLearning/CSE327/Dataset/train.csv')\n",
    "test_df = pd.read_csv('G:/DeepLearning/CSE327/Dataset/test.csv')\n",
    "\n",
    "print(Fore.YELLOW + 'Training data shape: ',Style.RESET_ALL,train_df.shape)\n",
    "train_df.head(5)"
   ]
  },
  {
   "cell_type": "code",
   "execution_count": null,
   "metadata": {},
   "outputs": [],
   "source": [
    "train_df.groupby(['SmokingStatus']).count()['Sex'].to_frame()"
   ]
  },
  {
   "cell_type": "code",
   "execution_count": null,
   "metadata": {},
   "outputs": [],
   "source": [
    "# Null values and Data types\n",
    "print(Fore.YELLOW + 'Train Set !!',Style.RESET_ALL)\n",
    "print(train_df.info())\n",
    "print('-------------')\n",
    "print(Fore.BLUE + 'Test Set !!',Style.RESET_ALL)\n",
    "print(test_df.info())"
   ]
  },
  {
   "cell_type": "code",
   "execution_count": null,
   "metadata": {},
   "outputs": [],
   "source": [
    "train_df.isnull().sum()"
   ]
  },
  {
   "cell_type": "code",
   "execution_count": null,
   "metadata": {},
   "outputs": [],
   "source": [
    "test_df.isnull().sum()"
   ]
  },
  {
   "cell_type": "code",
   "execution_count": null,
   "metadata": {},
   "outputs": [],
   "source": [
    "# Total number of Patient in the dataset(train+test)\n",
    "\n",
    "print(Fore.YELLOW +\"Total Patients in Train set: \",Style.RESET_ALL,train_df['Patient'].count())\n",
    "print(Fore.BLUE +\"Total Patients in Test set: \",Style.RESET_ALL,test_df['Patient'].count())"
   ]
  },
  {
   "cell_type": "code",
   "execution_count": null,
   "metadata": {},
   "outputs": [],
   "source": [
    "print(\"The total patient ids are\",{train_df['Patient'].count()}, \"from those the unique ids are\",{train_df['Patient'].value_counts().shape[0]})"
   ]
  },
  {
   "cell_type": "code",
   "execution_count": null,
   "metadata": {},
   "outputs": [],
   "source": [
    "train_patient_ids = set(train_df['Patient'].unique())\n",
    "test_patient_ids = set(test_df['Patient'].unique())\n",
    "\n",
    "train_patient_ids.intersection(test_patient_ids)"
   ]
  },
  {
   "cell_type": "code",
   "execution_count": null,
   "metadata": {},
   "outputs": [],
   "source": [
    "columns = train_df.keys()\n",
    "columns = list(columns)\n",
    "print(columns)"
   ]
  },
  {
   "cell_type": "code",
   "execution_count": null,
   "metadata": {},
   "outputs": [],
   "source": [
    "train_df['Patient'].value_counts().max()"
   ]
  },
  {
   "cell_type": "code",
   "execution_count": null,
   "metadata": {},
   "outputs": [],
   "source": [
    "test_df['Patient'].value_counts().max()"
   ]
  },
  {
   "cell_type": "code",
   "execution_count": null,
   "metadata": {},
   "outputs": [],
   "source": [
    "np.quantile(train_df['Patient'].value_counts(), 0.75) - np.quantile(test_df['Patient'].value_counts(), 0.25)"
   ]
  },
  {
   "cell_type": "code",
   "execution_count": null,
   "metadata": {},
   "outputs": [],
   "source": [
    "print(np.quantile(train_df['Patient'].value_counts(), 0.95))\n",
    "print(np.quantile(test_df['Patient'].value_counts(), 0.95))"
   ]
  },
  {
   "cell_type": "code",
   "execution_count": null,
   "metadata": {},
   "outputs": [],
   "source": [
    "files = folders = 0\n",
    "\n",
    "path = \"G:/DeepLearning/CSE327/Dataset/train\"\n",
    "\n",
    "for _, dirnames, filenames in os.walk(path):\n",
    "  # ^ this idiom means \"we won't be using this value\"\n",
    "    files += len(filenames)\n",
    "    folders += len(dirnames)\n",
    "print(Fore.YELLOW +\"Total Patients in Train set: \",Style.RESET_ALL,train_df['Patient'].count())\n"
   ]
  },
  {
   "cell_type": "code",
   "execution_count": null,
   "metadata": {},
   "outputs": [],
   "source": [
    "files = []\n",
    "for _, dirnames, filenames in os.walk(path):\n",
    "  # ^ this idiom means \"we won't be using this value\"\n",
    "    files.append(len(filenames))\n",
    "\n",
    "print(round(np.mean(files)),'average files/images per patient')\n",
    "print(round(np.max(files)) ,'max files/images per patient')"
   ]
  },
  {
   "cell_type": "code",
   "execution_count": null,
   "metadata": {},
   "outputs": [],
   "source": [
    "patient_df = train_df[['Patient', 'Age', 'Sex', 'SmokingStatus']].drop_duplicates()\n",
    "patient_df.head()"
   ]
  },
  {
   "cell_type": "code",
   "execution_count": null,
   "metadata": {},
   "outputs": [],
   "source": [
    "# Creating unique patient lists and their properties. \n",
    "train_dir = 'G:/DeepLearning/CSE327/Dataset/train/'\n",
    "test_dir = 'G:/DeepLearning/CSE327/Dataset/test/'\n",
    "\n",
    "patient_ids = os.listdir(train_dir)\n",
    "patient_ids = sorted(patient_ids)\n",
    "\n",
    "#Creating new rows\n",
    "no_of_instances = []\n",
    "age = []\n",
    "sex = []\n",
    "smoking_status = []\n",
    "\n",
    "for patient_id in patient_ids:\n",
    "    patient_info = train_df[train_df['Patient'] == patient_id].reset_index()\n",
    "    no_of_instances.append(len(os.listdir(train_dir + patient_id)))\n",
    "    age.append(patient_info['Age'][0])\n",
    "    sex.append(patient_info['Sex'][0])\n",
    "    smoking_status.append(patient_info['SmokingStatus'][0])\n",
    "\n",
    "#Creating the dataframe for the patient info    \n",
    "patient_df = pd.DataFrame(list(zip(patient_ids, no_of_instances, age, sex, smoking_status)), \n",
    "                                 columns =['Patient', 'no_of_instances', 'Age', 'Sex', 'SmokingStatus'])\n",
    "print(patient_df.info())\n",
    "patient_df.head()"
   ]
  },
  {
   "cell_type": "code",
   "execution_count": null,
   "metadata": {},
   "outputs": [],
   "source": [
    "patient_df['SmokingStatus'].value_counts()"
   ]
  },
  {
   "cell_type": "code",
   "execution_count": null,
   "metadata": {},
   "outputs": [],
   "source": [
    "patient_df['SmokingStatus'].value_counts().iplot(kind='bar',\n",
    "                                              yTitle='Counts', \n",
    "                                              linecolor='black', \n",
    "                                              opacity=0.7,\n",
    "                                              color='blue',\n",
    "                                              theme='pearl',\n",
    "                                              bargap=0.5,\n",
    "                                              gridcolor='white',\n",
    "                                              title='Distribution of the SmokingStatus column in the Unique Patient Set')"
   ]
  },
  {
   "cell_type": "code",
   "execution_count": null,
   "metadata": {},
   "outputs": [],
   "source": [
    "train_df['Weeks'].value_counts().head()"
   ]
  },
  {
   "cell_type": "code",
   "execution_count": null,
   "metadata": {},
   "outputs": [],
   "source": [
    "train_df['Weeks'].value_counts().iplot(kind='barh',\n",
    "                                      xTitle='Counts(Weeks)', \n",
    "                                      linecolor='black', \n",
    "                                      opacity=0.7,\n",
    "                                      color='#FB8072',\n",
    "                                      theme='pearl',\n",
    "                                      bargap=0.2,\n",
    "                                      gridcolor='white',\n",
    "                                      title='Distribution of the Weeks in the training set')"
   ]
  },
  {
   "cell_type": "code",
   "execution_count": null,
   "metadata": {},
   "outputs": [],
   "source": [
    "train_df['Weeks'].iplot(kind='hist',\n",
    "                              xTitle='Weeks', \n",
    "                              yTitle='Counts',\n",
    "                              linecolor='black', \n",
    "                              opacity=0.7,\n",
    "                              color='#FB8072',\n",
    "                              theme='pearl',\n",
    "                              bargap=0.2,\n",
    "                              gridcolor='white',\n",
    "                              title='Distribution of the Weeks in the training set')"
   ]
  },
  {
   "cell_type": "code",
   "execution_count": null,
   "metadata": {},
   "outputs": [],
   "source": [
    "fig = px.scatter(train_df, x=\"Weeks\", y=\"Age\", color='Sex')\n",
    "fig.show()"
   ]
  },
  {
   "cell_type": "code",
   "execution_count": null,
   "metadata": {},
   "outputs": [],
   "source": [
    "train_df['FVC'].value_counts()"
   ]
  },
  {
   "cell_type": "code",
   "execution_count": null,
   "metadata": {},
   "outputs": [],
   "source": [
    "train_df['FVC'].iplot(kind='hist',\n",
    "                      xTitle='Lung Capacity(ml)', \n",
    "                      linecolor='black', \n",
    "                      opacity=0.8,\n",
    "                      color='#FB8072',\n",
    "                      bargap=0.5,\n",
    "                      gridcolor='white',\n",
    "                      title='Distribution of the FVC in the training set')"
   ]
  },
  {
   "cell_type": "code",
   "execution_count": null,
   "metadata": {},
   "outputs": [],
   "source": [
    "fig = px.scatter(train_df, x=\"FVC\", y=\"Percent\", color='Age')\n",
    "fig.show()"
   ]
  },
  {
   "cell_type": "code",
   "execution_count": null,
   "metadata": {},
   "outputs": [],
   "source": [
    "fig = px.scatter(train_df, x=\"FVC\", y=\"Age\", color='Sex')\n",
    "fig.show()"
   ]
  },
  {
   "cell_type": "code",
   "execution_count": null,
   "metadata": {},
   "outputs": [],
   "source": [
    "fig = px.scatter(train_df, x=\"FVC\", y=\"Weeks\", color='SmokingStatus')\n",
    "fig.show()"
   ]
  },
  {
   "cell_type": "code",
   "execution_count": null,
   "metadata": {},
   "outputs": [],
   "source": [
    "patient = train_df[train_df.Patient == 'ID00228637202259965313869']\n",
    "fig = px.line(patient, x=\"Weeks\", y=\"FVC\", color='SmokingStatus')\n",
    "fig.show()"
   ]
  },
  {
   "cell_type": "code",
   "execution_count": null,
   "metadata": {},
   "outputs": [],
   "source": [
    "train_df['Percent'].value_counts()"
   ]
  },
  {
   "cell_type": "code",
   "execution_count": null,
   "metadata": {},
   "outputs": [],
   "source": [
    "train_df['Percent'].iplot(kind='hist',bins=30,color='blue',xTitle='Percent distribution',yTitle='Count')"
   ]
  },
  {
   "cell_type": "code",
   "execution_count": null,
   "metadata": {},
   "outputs": [],
   "source": [
    "df = train_df\n",
    "fig = px.violin(df, y='Percent', x='SmokingStatus', box=True, color='Sex', points=\"all\",\n",
    "          hover_data=train_df.columns)\n",
    "fig.show()"
   ]
  },
  {
   "cell_type": "code",
   "execution_count": null,
   "metadata": {},
   "outputs": [],
   "source": [
    "plt.figure(figsize=(16, 6))\n",
    "ax = sns.violinplot(x = train_df['SmokingStatus'], y = train_df['Percent'], palette = 'Reds')\n",
    "ax.set_xlabel(xlabel = 'Smoking Habit', fontsize = 15)\n",
    "ax.set_ylabel(ylabel = 'Percent', fontsize = 15)\n",
    "ax.set_title(label = 'Distribution of Smoking Status Over Percentage', fontsize = 20)\n",
    "plt.show()"
   ]
  },
  {
   "cell_type": "code",
   "execution_count": null,
   "metadata": {},
   "outputs": [],
   "source": [
    "fig = px.scatter(train_df, x=\"Age\", y=\"Percent\", color='SmokingStatus')\n",
    "fig.show()"
   ]
  },
  {
   "cell_type": "code",
   "execution_count": null,
   "metadata": {},
   "outputs": [],
   "source": [
    "patient = train_df[train_df.Patient == 'ID00228637202259965313869']\n",
    "fig = px.line(patient, x=\"Weeks\", y=\"Percent\", color='SmokingStatus')\n",
    "fig.show()"
   ]
  },
  {
   "cell_type": "code",
   "execution_count": null,
   "metadata": {},
   "outputs": [],
   "source": [
    "patient_df['Age'].iplot(kind='hist',bins=30,color='red',xTitle='Ages of distribution',yTitle='Count')"
   ]
  },
  {
   "cell_type": "code",
   "execution_count": null,
   "metadata": {},
   "outputs": [],
   "source": [
    "patient_df['SmokingStatus'].value_counts()"
   ]
  },
  {
   "cell_type": "code",
   "execution_count": null,
   "metadata": {},
   "outputs": [],
   "source": [
    "plt.figure(figsize=(16, 6))\n",
    "sns.kdeplot(patient_df.loc[patient_df['SmokingStatus'] == 'Ex-smoker', 'Age'], label = 'Ex-smoker',shade=True)\n",
    "sns.kdeplot(patient_df.loc[patient_df['SmokingStatus'] == 'Never smoked', 'Age'], label = 'Never smoked',shade=True)\n",
    "sns.kdeplot(patient_df.loc[patient_df['SmokingStatus'] == 'Currently smokes', 'Age'], label = 'Currently smokes', shade=True)\n",
    "\n",
    "# Labeling of plot\n",
    "plt.xlabel('Age (years)'); plt.ylabel('Density'); plt.title('Distribution of Ages');"
   ]
  },
  {
   "cell_type": "code",
   "execution_count": null,
   "metadata": {},
   "outputs": [],
   "source": [
    "plt.figure(figsize=(16, 6))\n",
    "ax = sns.violinplot(x = patient_df['SmokingStatus'], y = patient_df['Age'], palette = 'Reds')\n",
    "ax.set_xlabel(xlabel = 'Smoking habit', fontsize = 15)\n",
    "ax.set_ylabel(ylabel = 'Age', fontsize = 15)\n",
    "ax.set_title(label = 'Distribution of Smokers over Age', fontsize = 20)\n",
    "plt.show()"
   ]
  },
  {
   "cell_type": "code",
   "execution_count": null,
   "metadata": {},
   "outputs": [],
   "source": [
    "plt.figure(figsize=(16, 6))\n",
    "sns.kdeplot(patient_df.loc[patient_df['Sex'] == 'Male', 'Age'], label = 'Male',shade=True)\n",
    "sns.kdeplot(patient_df.loc[patient_df['Sex'] == 'Female', 'Age'], label = 'Female',shade=True)\n",
    "plt.xlabel('Age (years)'); plt.ylabel('Density'); plt.title('Distribution of Ages');"
   ]
  },
  {
   "cell_type": "code",
   "execution_count": null,
   "metadata": {},
   "outputs": [],
   "source": [
    "patient_df['Sex'].value_counts()"
   ]
  },
  {
   "cell_type": "code",
   "execution_count": null,
   "metadata": {},
   "outputs": [],
   "source": [
    "patient_df['Sex'].value_counts().iplot(kind='bar',\n",
    "                                          yTitle='Count', \n",
    "                                          linecolor='black', \n",
    "                                          opacity=0.7,\n",
    "                                          color='blue',\n",
    "                                          theme='pearl',\n",
    "                                          bargap=0.8,\n",
    "                                          gridcolor='white',\n",
    "                                          title='Distribution of the Sex column in Patient Dataframe')"
   ]
  },
  {
   "cell_type": "code",
   "execution_count": null,
   "metadata": {},
   "outputs": [],
   "source": [
    "plt.figure(figsize=(16, 6))\n",
    "a = sns.countplot(data=patient_df, x='SmokingStatus', hue='Sex')\n",
    "\n",
    "for p in a.patches:\n",
    "    a.annotate(format(p.get_height(), ','), \n",
    "           (p.get_x() + p.get_width() / 2., \n",
    "            p.get_height()), ha = 'center', va = 'center', \n",
    "           xytext = (0, 4), textcoords = 'offset points')\n",
    "\n",
    "plt.title('Gender split by SmokingStatus', fontsize=16)\n",
    "sns.despine(left=True, bottom=True);"
   ]
  },
  {
   "cell_type": "code",
   "execution_count": null,
   "metadata": {},
   "outputs": [],
   "source": [
    "fig = px.box(patient_df, x=\"Sex\", y=\"Age\", points=\"all\")\n",
    "fig.show()"
   ]
  },
  {
   "cell_type": "code",
   "execution_count": null,
   "metadata": {
    "scrolled": true
   },
   "outputs": [],
   "source": [
    "# Extract patient id's for the training set\n",
    "ids_train = train_df.Patient.values\n",
    "# Extract patient id's for the validation set\n",
    "ids_test = test_df.Patient.values\n",
    "print(\"Total Patients in Train set: \",train_df['Patient'].count())\n",
    "# Create a \"set\" datastructure of the training set id's to identify unique id's\n",
    "ids_train_set = set(ids_train)\n",
    "print(\"There are\",len(ids_train_set),'unique Patient IDs','in the training set')\n",
    "# Create a \"set\" datastructure of the validation set id's to identify unique id's\n",
    "ids_test_set = set(ids_test)\n",
    "print(\"There are\", len(ids_test_set), 'unique Patient IDs','in the test set')\n",
    "\n",
    "\n",
    "# Identify patient overlap by looking at the intersection between the sets\n",
    "patient_overlap = list(ids_train_set.intersection(ids_test_set))\n",
    "n_overlap = len(patient_overlap)\n",
    "print(\"There are\", n_overlap, 'Patient IDs', 'in both the training and test sets')\n",
    "print('')\n",
    "print('These patients are in both the training and test datasets:')\n",
    "print(patient_overlap)"
   ]
  },
  {
   "cell_type": "code",
   "execution_count": null,
   "metadata": {},
   "outputs": [],
   "source": [
    "corrmat = train_df.corr() \n",
    "f, ax = plt.subplots(figsize =(9, 8)) \n",
    "sns.heatmap(corrmat, ax = ax, cmap = 'RdYlBu_r', linewidths = 0.5) "
   ]
  },
  {
   "cell_type": "code",
   "execution_count": null,
   "metadata": {},
   "outputs": [],
   "source": [
    "print(Fore.YELLOW + 'Train .dcm number of images:',Style.RESET_ALL, len(list(os.listdir('G:/DeepLearning/CSE327/Dataset/train'))), '\\n' +\n",
    "      Fore.BLUE + 'Test .dcm number of images:',Style.RESET_ALL, len(list(os.listdir('G:/DeepLearning/CSE327/Dataset/test'))), '\\n' +\n",
    "      '--------------------------------', '\\n' + 'There is the same number of images as in train/ test .csv datasets')"
   ]
  },
  {
   "cell_type": "code",
   "execution_count": null,
   "metadata": {},
   "outputs": [],
   "source": [
    "def plot_pixel_array(dataset, figsize=(5,5)):\n",
    "    plt.figure(figsize=figsize)\n",
    "    plt.grid(False)\n",
    "    plt.imshow(dataset.pixel_array, cmap='gray') # cmap=plt.cm.bone)\n",
    "    plt.show()"
   ]
  },
  {
   "cell_type": "code",
   "execution_count": null,
   "metadata": {},
   "outputs": [],
   "source": [
    "def show_dcm_info(dataset):\n",
    "    print(Fore.YELLOW + \"Filename.........:\",Style.RESET_ALL,file_path)\n",
    "    print()\n",
    "\n",
    "    pat_name = dataset.PatientName\n",
    "    display_name = pat_name.family_name + \", \" + pat_name.given_name\n",
    "    print(Fore.BLUE + \"Patient's name......:\",Style.RESET_ALL, display_name)\n",
    "    print(Fore.BLUE + \"Patient id..........:\",Style.RESET_ALL, dataset.PatientID)\n",
    "    print(Fore.BLUE + \"Patient's Sex.......:\",Style.RESET_ALL, dataset.PatientSex)\n",
    "    print(Fore.YELLOW + \"Modality............:\",Style.RESET_ALL, dataset.Modality)\n",
    "    print(Fore.GREEN + \"Body Part Examined..:\",Style.RESET_ALL, dataset.BodyPartExamined)\n",
    "    \n",
    "    if 'PixelData' in dataset:\n",
    "        rows = int(dataset.Rows)\n",
    "        cols = int(dataset.Columns)\n",
    "        print(Fore.BLUE + \"Image size.......:\",Style.RESET_ALL,\" {rows:d} x {cols:d}, {size:d} bytes\".format(\n",
    "            rows=rows, cols=cols, size=len(dataset.PixelData)))\n",
    "        if 'PixelSpacing' in dataset:\n",
    "            print(Fore.YELLOW + \"Pixel spacing....:\",Style.RESET_ALL,dataset.PixelSpacing)\n",
    "            dataset.PixelSpacing = [1, 1]\n",
    "        plt.figure(figsize=(10, 10))\n",
    "        plt.imshow(dataset.pixel_array, cmap='gray')\n",
    "        plt.show()\n",
    "for file_path in glob.glob('G:/DeepLearning/CSE327/Dataset/train/*/*.dcm'):\n",
    "    dataset = pydicom.dcmread(file_path)\n",
    "    show_dcm_info(dataset)\n",
    "    #break # Comment this out to see all"
   ]
  },
  {
   "cell_type": "code",
   "execution_count": null,
   "metadata": {},
   "outputs": [],
   "source": [
    "# https://www.kaggle.com/yeayates21/osic-simple-image-eda\n",
    "\n",
    "imdir = \"G:/DeepLearning/CSE327/Dataset/train/ID00123637202217151272140\"\n",
    "print(\"total images for patient ID00123637202217151272140: \", len(os.listdir(imdir)))\n",
    "\n",
    "# view first (columns*rows) images in order\n",
    "fig=plt.figure(figsize=(256, 256))\n",
    "columns = 4\n",
    "rows = 5\n",
    "imglist = os.listdir(imdir)\n",
    "for i in range(1, columns*rows +1):\n",
    "    filename = imdir + \"/\" + str(i) + \".dcm\"\n",
    "    ds = pydicom.dcmread(filename)\n",
    "    fig.add_subplot(rows, columns, i)\n",
    "    plt.imshow(ds.pixel_array, cmap='jet')\n",
    "plt.show()"
   ]
  },
  {
   "cell_type": "code",
   "execution_count": null,
   "metadata": {},
   "outputs": [],
   "source": [
    "apply_resample = False\n",
    "\n",
    "def load_scan(path):\n",
    "    slices = [pydicom.read_file(path + '/' + s) for s in os.listdir(path)]\n",
    "    slices.sort(key = lambda x: float(x.ImagePositionPatient[2]))\n",
    "    try:\n",
    "        slice_thickness = np.abs(slices[0].ImagePositionPatient[2] - slices[1].ImagePositionPatient[2])\n",
    "    except:\n",
    "        slice_thickness = np.abs(slices[0].SliceLocation - slices[1].SliceLocation)\n",
    "        \n",
    "    for s in slices:\n",
    "        s.SliceThickness = slice_thickness\n",
    "        \n",
    "    return slices"
   ]
  },
  {
   "cell_type": "code",
   "execution_count": null,
   "metadata": {},
   "outputs": [],
   "source": [
    "def load_scan(path):\n",
    "    slices = [pydicom.read_file(path + '/' + s) for s in os.listdir(path)]\n",
    "    slices.sort(key = lambda x: float(x.ImagePositionPatient[2]))\n",
    "    try:\n",
    "        slice_thickness = np.abs(slices[0].ImagePositionPatient[2] - slices[1].ImagePositionPatient[2])\n",
    "    except:\n",
    "        slice_thickness = np.abs(slices[0].SliceLocation - slices[1].SliceLocation)\n",
    "        \n",
    "    for s in slices:\n",
    "        s.SliceThickness = slice_thickness\n",
    "        \n",
    "    return slices"
   ]
  },
  {
   "cell_type": "code",
   "execution_count": null,
   "metadata": {},
   "outputs": [],
   "source": [
    "def get_pixels_hu(slices):\n",
    "    image = np.stack([s.pixel_array for s in slices])\n",
    "    # Convert to int16 (from sometimes int16), \n",
    "    # should be possible as values should always be low enough (<32k)\n",
    "    image = image.astype(np.int16)\n",
    "\n",
    "    # Set outside-of-scan pixels to 0\n",
    "    # The intercept is usually -1024, so air is approximately 0\n",
    "    image[image == -2000] = 0\n",
    "    \n",
    "    # Convert to Hounsfield units (HU)\n",
    "    for slice_number in range(len(slices)):\n",
    "        \n",
    "        intercept = slices[slice_number].RescaleIntercept\n",
    "        slope = slices[slice_number].RescaleSlope\n",
    "        \n",
    "        if slope != 1:\n",
    "            image[slice_number] = slope * image[slice_number].astype(np.float64)\n",
    "            image[slice_number] = image[slice_number].astype(np.int16)\n",
    "            \n",
    "        image[slice_number] += np.int16(intercept)\n",
    "    \n",
    "    return np.array(image, dtype=np.int16)"
   ]
  },
  {
   "cell_type": "code",
   "execution_count": null,
   "metadata": {},
   "outputs": [],
   "source": [
    "def set_lungwin(img, hu=[-1200., 600.]):\n",
    "    lungwin = np.array(hu)\n",
    "    newimg = (img-lungwin[0]) / (lungwin[1]-lungwin[0])\n",
    "    newimg[newimg < 0] = 0\n",
    "    newimg[newimg > 1] = 1\n",
    "    newimg = (newimg * 255).astype('uint8')\n",
    "    return newimg"
   ]
  },
  {
   "cell_type": "code",
   "execution_count": null,
   "metadata": {},
   "outputs": [],
   "source": [
    "scans = load_scan('G:/DeepLearning/CSE327/Dataset/train/ID00007637202177411956430/')\n",
    "scan_array = set_lungwin(get_pixels_hu(scans))"
   ]
  },
  {
   "cell_type": "code",
   "execution_count": null,
   "metadata": {},
   "outputs": [],
   "source": [
    "# Resample to 1mm (An optional step, it may not be relevant to this competition because of the large slice thickness on the z axis)\n",
    "\n",
    "from scipy.ndimage.interpolation import zoom\n",
    "\n",
    "def resample(imgs, spacing, new_spacing):\n",
    "    new_shape = np.round(imgs.shape * spacing / new_spacing)\n",
    "    true_spacing = spacing * imgs.shape / new_shape\n",
    "    resize_factor = new_shape / imgs.shape\n",
    "    imgs = zoom(imgs, resize_factor, mode='nearest')\n",
    "    return imgs, true_spacing, new_shape\n",
    "\n",
    "spacing_z = (scans[-1].ImagePositionPatient[2] - scans[0].ImagePositionPatient[2]) / len(scans)\n",
    "\n",
    "if apply_resample:\n",
    "    scan_array_resample = resample(scan_array, np.array(np.array([spacing_z, *scans[0].PixelSpacing])), np.array([1.,1.,1.]))[0]"
   ]
  },
  {
   "cell_type": "code",
   "execution_count": null,
   "metadata": {},
   "outputs": [],
   "source": [
    "import imageio\n",
    "from IPython.display import Image\n",
    "\n",
    "imageio.mimsave(\"G:/DeepLearning/CSE327/Dataset/tmp/image.gif\", scan_array, duration=0.0001)\n",
    "Image(filename=\"G:/DeepLearning/CSE327/Dataset/tmp/image.gif\", format='png')"
   ]
  },
  {
   "cell_type": "code",
   "execution_count": null,
   "metadata": {},
   "outputs": [],
   "source": [
    "import matplotlib.animation as animation\n",
    "\n",
    "fig = plt.figure()\n",
    "\n",
    "ims = []\n",
    "for image in scan_array:\n",
    "    im = plt.imshow(image, animated=True, cmap=\"Greys\")\n",
    "    plt.axis(\"off\")\n",
    "    ims.append([im])\n",
    "\n",
    "ani = animation.ArtistAnimation(fig, ims, interval=100, blit=False,\n",
    "                                repeat_delay=1000)\n"
   ]
  },
  {
   "cell_type": "code",
   "execution_count": null,
   "metadata": {},
   "outputs": [],
   "source": [
    "def extract_dicom_meta_data(filename: str) -> Dict:\n",
    "    # Load image\n",
    "    \n",
    "    image_data = pydicom.read_file(filename)\n",
    "    img=np.array(image_data.pixel_array).flatten()\n",
    "    row = {\n",
    "        'Patient': image_data.PatientID,\n",
    "        'body_part_examined': image_data.BodyPartExamined,\n",
    "        'image_position_patient': image_data.ImagePositionPatient,\n",
    "        'image_orientation_patient': image_data.ImageOrientationPatient,\n",
    "        'photometric_interpretation': image_data.PhotometricInterpretation,\n",
    "        'rows': image_data.Rows,\n",
    "        'columns': image_data.Columns,\n",
    "        'pixel_spacing': image_data.PixelSpacing,\n",
    "        'window_center': image_data.WindowCenter,\n",
    "        'window_width': image_data.WindowWidth,\n",
    "        'modality': image_data.Modality,\n",
    "        'StudyInstanceUID': image_data.StudyInstanceUID,\n",
    "        'SeriesInstanceUID': image_data.StudyInstanceUID,\n",
    "        'StudyID': image_data.StudyInstanceUID, \n",
    "        'SamplesPerPixel': image_data.SamplesPerPixel,\n",
    "        'BitsAllocated': image_data.BitsAllocated,\n",
    "        'BitsStored': image_data.BitsStored,\n",
    "        'HighBit': image_data.HighBit,\n",
    "        'PixelRepresentation': image_data.PixelRepresentation,\n",
    "        'RescaleIntercept': image_data.RescaleIntercept,\n",
    "        'RescaleSlope': image_data.RescaleSlope,\n",
    "        'img_min': np.min(img),\n",
    "        'img_max': np.max(img),\n",
    "        'img_mean': np.mean(img),\n",
    "        'img_std': np.std(img)}\n",
    "\n",
    "    return row"
   ]
  },
  {
   "cell_type": "code",
   "execution_count": null,
   "metadata": {},
   "outputs": [],
   "source": [
    "train_image_path = 'G:/DeepLearning/CSE327/Dataset/train'\n",
    "train_image_files = glob.glob(os.path.join(train_image_path, '*', '*.dcm'))\n",
    "\n",
    "meta_data_df = []\n",
    "for filename in tqdm.tqdm(train_image_files):\n",
    "    try:\n",
    "        meta_data_df.append(extract_dicom_meta_data(filename))\n",
    "    except Exception as e:\n",
    "        continue"
   ]
  },
  {
   "cell_type": "code",
   "execution_count": null,
   "metadata": {},
   "outputs": [],
   "source": [
    "# Convert to a pd.DataFrame from dict\n",
    "meta_data_df = pd.DataFrame.from_dict(meta_data_df)\n",
    "meta_data_df.head()"
   ]
  },
  {
   "cell_type": "code",
   "execution_count": null,
   "metadata": {},
   "outputs": [],
   "source": [
    "# source: https://www.kaggle.com/c/siim-isic-melanoma-classification/discussion/154658\n",
    "folder='train'\n",
    "PATH='G:/DeepLearning/CSE327/Dataset'\n",
    "\n",
    "last_index = 2\n",
    "\n",
    "column_names = ['image_name', 'dcm_ImageOrientationPatient', \n",
    "                'dcm_ImagePositionPatient', 'dcm_PatientID',\n",
    "                'dcm_PatientName', 'dcm_PatientSex'\n",
    "                'dcm_rows', 'dcm_columns']\n",
    "\n",
    "def extract_DICOM_attributes(folder):\n",
    "    patients_folder = list(os.listdir(os.path.join(PATH, folder)))\n",
    "    df = pd.DataFrame()\n",
    "    \n",
    "    i = 0\n",
    "    \n",
    "    for patient_id in patients_folder:\n",
    "   \n",
    "        img_path = os.path.join(PATH, folder, patient_id)\n",
    "        \n",
    "        print(img_path)\n",
    "        \n",
    "        images = list(os.listdir(img_path))\n",
    "        \n",
    "        #df = pd.DataFrame()\n",
    "\n",
    "        for image in images:\n",
    "            image_name = image.split(\".\")[0]\n",
    "\n",
    "            dicom_file_path = os.path.join(img_path,image)\n",
    "            dicom_file_dataset = pydicom.read_file(dicom_file_path)\n",
    "                \n",
    "            '''\n",
    "            print(dicom_file_dataset.dir(\"pat\"))\n",
    "            print(dicom_file_dataset.data_element(\"ImageOrientationPatient\"))\n",
    "            print(dicom_file_dataset.data_element(\"ImagePositionPatient\"))\n",
    "            print(dicom_file_dataset.data_element(\"PatientID\"))\n",
    "            print(dicom_file_dataset.data_element(\"PatientName\"))\n",
    "            print(dicom_file_dataset.data_element(\"PatientSex\"))\n",
    "            '''\n",
    "            \n",
    "            imageOrientationPatient = dicom_file_dataset.ImageOrientationPatient\n",
    "            #imagePositionPatient = dicom_file_dataset.ImagePositionPatient\n",
    "            patientID = dicom_file_dataset.PatientID\n",
    "            patientName = dicom_file_dataset.PatientName\n",
    "            patientSex = dicom_file_dataset.PatientSex\n",
    "        \n",
    "            rows = dicom_file_dataset.Rows\n",
    "            cols = dicom_file_dataset.Columns\n",
    "            \n",
    "            #print(rows)\n",
    "            #print(columns)\n",
    "            \n",
    "            temp_dict = {'image_name': image_name, \n",
    "                                    'dcm_ImageOrientationPatient': imageOrientationPatient,\n",
    "                                    #'dcm_ImagePositionPatient':imagePositionPatient,\n",
    "                                    'dcm_PatientID': patientID, \n",
    "                                    'dcm_PatientName': patientName,\n",
    "                                    'dcm_PatientSex': patientSex,\n",
    "                                    'dcm_rows': rows,\n",
    "                                    'dcm_columns': cols}\n",
    "\n",
    "\n",
    "            df = df.append([temp_dict])\n",
    "            \n",
    "        i += 1\n",
    "        \n",
    "        if i == last_index:\n",
    "            break\n",
    "            \n",
    "    return df\n"
   ]
  },
  {
   "cell_type": "code",
   "execution_count": null,
   "metadata": {},
   "outputs": [],
   "source": [
    "extract_DICOM_attributes('train')"
   ]
  },
  {
   "cell_type": "code",
   "execution_count": null,
   "metadata": {},
   "outputs": [],
   "source": [
    "import pandas_profiling as pdp"
   ]
  },
  {
   "cell_type": "code",
   "execution_count": null,
   "metadata": {},
   "outputs": [],
   "source": [
    "train_df = pd.read_csv('G:/DeepLearning/CSE327/Dataset/train.csv')\n",
    "test_df = pd.read_csv('G:/DeepLearning/CSE327/Dataset/test.csv')"
   ]
  },
  {
   "cell_type": "code",
   "execution_count": null,
   "metadata": {},
   "outputs": [],
   "source": [
    "profile_train_df = pdp.ProfileReport(train_df)"
   ]
  },
  {
   "cell_type": "code",
   "execution_count": null,
   "metadata": {},
   "outputs": [],
   "source": [
    "profile_train_df"
   ]
  },
  {
   "cell_type": "code",
   "execution_count": null,
   "metadata": {},
   "outputs": [],
   "source": [
    "profile_test_df = pdp.ProfileReport(test_df)"
   ]
  },
  {
   "cell_type": "code",
   "execution_count": null,
   "metadata": {},
   "outputs": [],
   "source": [
    "profile_test_df"
   ]
  },
  {
   "cell_type": "code",
   "execution_count": null,
   "metadata": {},
   "outputs": [],
   "source": []
  }
 ],
 "metadata": {
  "kernelspec": {
   "display_name": "PF",
   "language": "python",
   "name": "pf"
  },
  "language_info": {
   "codemirror_mode": {
    "name": "ipython",
    "version": 3
   },
   "file_extension": ".py",
   "mimetype": "text/x-python",
   "name": "python",
   "nbconvert_exporter": "python",
   "pygments_lexer": "ipython3",
   "version": "3.5.5"
  }
 },
 "nbformat": 4,
 "nbformat_minor": 4
}
